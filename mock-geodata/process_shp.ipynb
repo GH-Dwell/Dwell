{
 "cells": [
  {
   "cell_type": "code",
   "execution_count": 83,
   "metadata": {},
   "outputs": [],
   "source": [
    "import os\n",
    "import numpy as np\n",
    "import pandas as pd\n",
    "from simpledbf import Dbf5\n",
    "import shapefile\n",
    "from json import dumps"
   ]
  },
  {
   "cell_type": "code",
   "execution_count": 84,
   "metadata": {},
   "outputs": [
    {
     "data": {
      "text/plain": [
       "Index(['SA2_CODE21', 'SA2_NAME21', 'CHG_FLAG21', 'CHG_LBL21', 'SA3_CODE21',\n",
       "       'SA3_NAME21', 'SA4_CODE21', 'SA4_NAME21', 'GCC_CODE21', 'GCC_NAME21',\n",
       "       'STE_CODE21', 'STE_NAME21', 'AUS_CODE21', 'AUS_NAME21', 'AREASQKM21',\n",
       "       'LOCI_URI21'],\n",
       "      dtype='object')"
      ]
     },
     "execution_count": 84,
     "metadata": {},
     "output_type": "execute_result"
    }
   ],
   "source": [
    "sa2_dbf = Dbf5(\"./SA2_2021_AUST_GDA2020.dbf\")\n",
    "sa2_codes = sa2_dbf.to_dataframe()\n",
    "sa2_codes.columns"
   ]
  },
  {
   "cell_type": "code",
   "execution_count": 85,
   "metadata": {},
   "outputs": [],
   "source": [
    "sf = shapefile.Reader(\"./SA2_2021_AUST_GDA2020.shp\")\n",
    "shapes = sf.shapes()"
   ]
  },
  {
   "cell_type": "code",
   "execution_count": 87,
   "metadata": {},
   "outputs": [],
   "source": [
    "# s = sf.shape(0)\n",
    "# geoj = s.__geo_interface__\n",
    "# geoj[\"type\"]\n",
    "geoj_list = []\n",
    "for i in range(0,len(shapes)): \n",
    "    s = sf.shape(i)\n",
    "    geoj = s.__geo_interface__ if s.shapeType != 0 else {}\n",
    "    geoj_list.append(geoj)\n",
    "\n",
    "sa2_codes[\"Geoj\"] = pd.Series(geoj_list)\n"
   ]
  },
  {
   "cell_type": "code",
   "execution_count": 88,
   "metadata": {},
   "outputs": [],
   "source": [
    "sa2_codes.to_csv(\"SA2_CODES_FULL.csv\")"
   ]
  },
  {
   "cell_type": "code",
   "execution_count": 89,
   "metadata": {},
   "outputs": [],
   "source": [
    "df = pd.read_csv('data_mock_01.csv')"
   ]
  },
  {
   "cell_type": "code",
   "execution_count": 90,
   "metadata": {},
   "outputs": [],
   "source": [
    "sa2_codes = sa2_codes.rename(columns={'SA2_CODE21': \"sa2_code\"})"
   ]
  },
  {
   "cell_type": "code",
   "execution_count": 92,
   "metadata": {},
   "outputs": [
    {
     "data": {
      "text/plain": [
       "0       101021007\n",
       "1       101021008\n",
       "2       101021009\n",
       "3       101021010\n",
       "4       101021012\n",
       "          ...    \n",
       "2468    901031003\n",
       "2469    901041004\n",
       "2470    997979799\n",
       "2471    999999499\n",
       "2472    ZZZZZZZZZ\n",
       "Name: sa2_code, Length: 2473, dtype: object"
      ]
     },
     "execution_count": 92,
     "metadata": {},
     "output_type": "execute_result"
    }
   ],
   "source": [
    "sa2_codes['sa2_code']"
   ]
  },
  {
   "cell_type": "code",
   "execution_count": 97,
   "metadata": {},
   "outputs": [],
   "source": [
    "sa2_codes = sa2_codes.drop([sa2_codes.shape[0]-1])"
   ]
  },
  {
   "cell_type": "code",
   "execution_count": 98,
   "metadata": {},
   "outputs": [],
   "source": [
    "sa2_codes['sa2_code'] = sa2_codes['sa2_code'].astype(np.int64)"
   ]
  },
  {
   "cell_type": "code",
   "execution_count": 99,
   "metadata": {},
   "outputs": [],
   "source": [
    "df_new = df.merge(sa2_codes[['sa2_code', 'Geoj']], on=['sa2_code'], how='left')"
   ]
  },
  {
   "cell_type": "code",
   "execution_count": 101,
   "metadata": {},
   "outputs": [],
   "source": [
    "# sa2_codes[['sa2_code', 'Geoj']]\n",
    "df_new.to_csv(\"data_mock_01r.csv\")"
   ]
  }
 ],
 "metadata": {
  "kernelspec": {
   "display_name": "Python 3 (ipykernel)",
   "language": "python",
   "name": "python3"
  },
  "language_info": {
   "codemirror_mode": {
    "name": "ipython",
    "version": 3
   },
   "file_extension": ".py",
   "mimetype": "text/x-python",
   "name": "python",
   "nbconvert_exporter": "python",
   "pygments_lexer": "ipython3",
   "version": "3.9.4"
  },
  "orig_nbformat": 4
 },
 "nbformat": 4,
 "nbformat_minor": 2
}
